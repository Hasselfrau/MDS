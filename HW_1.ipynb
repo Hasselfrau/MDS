{
 "cells": [
  {
   "cell_type": "markdown",
   "metadata": {
    "id": "_kX74ytuOfgy"
   },
   "source": [
    "# Домашнее задание \"Линейная алгебра. Векторы\"."
   ]
  },
  {
   "cell_type": "markdown",
   "metadata": {
    "id": "rzDIWhwiKxdO"
   },
   "source": [
    "Даны вектора x = (1,1), y = (2, 0) и z = (0,2)\n",
    "\n",
    "Надо:\n",
    "- Изобразить вектора на экране\n",
    "- Изобразить точку x + y + z\n",
    "- Найти угол между векторами x и y\n",
    "\n"
   ]
  },
  {
   "cell_type": "code",
   "execution_count": 137,
   "metadata": {
    "ExecuteTime": {
     "end_time": "2021-08-08T17:51:55.626711Z",
     "start_time": "2021-08-08T17:51:55.608501Z"
    }
   },
   "outputs": [],
   "source": [
    "import numpy as np\n",
    "import matplotlib.pyplot as plt"
   ]
  },
  {
   "cell_type": "code",
   "execution_count": 138,
   "metadata": {
    "ExecuteTime": {
     "end_time": "2021-08-08T17:51:55.651238Z",
     "start_time": "2021-08-08T17:51:55.634049Z"
    }
   },
   "outputs": [],
   "source": [
    "# Изобразить вектора на экране\n",
    "x = np.array([1.,1.])\n",
    "y = np.array([2.,0.])\n",
    "z = np.array([0.,2.])"
   ]
  },
  {
   "cell_type": "code",
   "execution_count": 139,
   "metadata": {
    "ExecuteTime": {
     "end_time": "2021-08-08T17:51:55.665079Z",
     "start_time": "2021-08-08T17:51:55.658191Z"
    }
   },
   "outputs": [],
   "source": [
    "# Изобразить точку x + y + z\n",
    "sum_xyz = x + y + z"
   ]
  },
  {
   "cell_type": "code",
   "execution_count": 140,
   "metadata": {
    "ExecuteTime": {
     "end_time": "2021-08-08T17:51:56.133730Z",
     "start_time": "2021-08-08T17:51:55.669750Z"
    }
   },
   "outputs": [
    {
     "data": {
      "image/png": "[encoded data removed]",
      "text/plain": [
       "<Figure size 432x288 with 1 Axes>"
      ]
     },
     "metadata": {
      "needs_background": "light"
     },
     "output_type": "display_data"
    }
   ],
   "source": [
    "# Изобразить вектора  и точку на экране\n",
    "plt.figure()\n",
    "plt.plot(x[0],x[1],'ro')\n",
    "plt.plot(y[0],y[1],'go')\n",
    "plt.plot(z[0],z[1],'bo')\n",
    "plt.plot(sum_xyz[0], sum_xyz[1],'*')\n",
    "plt.grid()"
   ]
  },
  {
   "cell_type": "code",
   "execution_count": 141,
   "metadata": {
    "ExecuteTime": {
     "end_time": "2021-08-08T17:51:56.597588Z",
     "start_time": "2021-08-08T17:51:56.137476Z"
    }
   },
   "outputs": [
    {
     "data": {
      "image/png": "[encoded data removed]",
      "text/plain": [
       "<Figure size 432x288 with 1 Axes>"
      ]
     },
     "metadata": {
      "needs_background": "light"
     },
     "output_type": "display_data"
    }
   ],
   "source": [
    "# Изобразить вектора  и точку на экране\n",
    "\n",
    "origin = np.array([[0, 0, 0],[0, 0, 0]])\n",
    "vectors = np.array((x,y,z))\n",
    "fig, ax = plt.subplots(1)\n",
    "ax.quiver(*origin, \n",
    "           vectors[:, 0],\n",
    "           vectors[:, 1], \n",
    "           color=['r','g', 'b'],\n",
    "           scale=1,\n",
    "           scale_units='xy',\n",
    "           angles = 'xy')\n",
    "ax.plot(sum_xyz[0], sum_xyz[1],'*')\n",
    "ax.set_xlim((-0.1, vectors[:,0].max()+1.1))\n",
    "ax.set_ylim((-0.1, vectors[:,1].max()+1.1))\n",
    "plt.grid()"
   ]
  },
  {
   "cell_type": "code",
   "execution_count": 142,
   "metadata": {
    "ExecuteTime": {
     "end_time": "2021-08-08T17:51:56.900324Z",
     "start_time": "2021-08-08T17:51:56.605856Z"
    },
    "scrolled": false
   },
   "outputs": [
    {
     "data": {
      "image/png": "[encoded data removed]",
      "text/plain": [
       "<Figure size 432x288 with 1 Axes>"
      ]
     },
     "metadata": {
      "needs_background": "light"
     },
     "output_type": "display_data"
    }
   ],
   "source": [
    "# Найти угол между векторами x и y\n",
    "\n",
    "origin = np.array([[0, 0],[0, 0]])\n",
    "vectors = np.array((x,y))\n",
    "fig, ax = plt.subplots(1)\n",
    "ax.quiver(*origin, \n",
    "           vectors[:, 0],\n",
    "           vectors[:, 1], \n",
    "           color=['r','g'],\n",
    "           scale=1,\n",
    "           scale_units='xy',\n",
    "           angles = 'xy')\n",
    "\n",
    "ax.set_xlim((-.1, vectors.max()))\n",
    "ax.set_ylim((-.1, vectors.max()))\n",
    "plt.grid()"
   ]
  },
  {
   "cell_type": "code",
   "execution_count": 143,
   "metadata": {
    "ExecuteTime": {
     "end_time": "2021-08-08T17:51:56.915206Z",
     "start_time": "2021-08-08T17:51:56.906460Z"
    }
   },
   "outputs": [],
   "source": [
    "lenth_x = np.sqrt(np.dot(x,x))\n",
    "lenth_y = np.sqrt(np.dot(y,y))\n",
    "\n",
    "similarity = np.dot(x,y) / (lenth_x*lenth_y)"
   ]
  },
  {
   "cell_type": "code",
   "execution_count": 144,
   "metadata": {
    "ExecuteTime": {
     "end_time": "2021-08-08T17:51:56.977795Z",
     "start_time": "2021-08-08T17:51:56.939631Z"
    }
   },
   "outputs": [
    {
     "data": {
      "text/plain": [
       "True"
      ]
     },
     "execution_count": 144,
     "metadata": {},
     "output_type": "execute_result"
    }
   ],
   "source": [
    "round(similarity, 15) == round(np.sqrt(2)/2, 15)"
   ]
  },
  {
   "cell_type": "markdown",
   "metadata": {},
   "source": [
    "Угол между векторами x и y равен 45%, т.к. $\\cos 45^{\\circ}=\\frac{\\sqrt{2}}{2}$"
   ]
  }
 ],
 "metadata": {
  "colab": {
   "name": "HW_ 1",
   "provenance": []
  },
  "kernelspec": {
   "display_name": "Python 3",
   "language": "python",
   "name": "python3"
  },
  "language_info": {
   "codemirror_mode": {
    "name": "ipython",
    "version": 3
   },
   "file_extension": ".py",
   "mimetype": "text/x-python",
   "name": "python",
   "nbconvert_exporter": "python",
   "pygments_lexer": "ipython3",
   "version": "3.8.10"
  },
  "toc": {
   "base_numbering": 1,
   "nav_menu": {},
   "number_sections": true,
   "sideBar": true,
   "skip_h1_title": false,
   "title_cell": "Table of Contents",
   "title_sidebar": "Contents",
   "toc_cell": false,
   "toc_position": {},
   "toc_section_display": true,
   "toc_window_display": false
  },
  "varInspector": {
   "cols": {
    "lenName": 16,
    "lenType": 16,
    "lenVar": 40
   },
   "kernels_config": {
    "python": {
     "delete_cmd_postfix": "",
     "delete_cmd_prefix": "del ",
     "library": "var_list.py",
     "varRefreshCmd": "print(var_dic_list())"
    },
    "r": {
     "delete_cmd_postfix": ") ",
     "delete_cmd_prefix": "rm(",
     "library": "var_list.r",
     "varRefreshCmd": "cat(var_dic_list()) "
    }
   },
   "types_to_exclude": [
    "module",
    "function",
    "builtin_function_or_method",
    "instance",
    "_Feature"
   ],
   "window_display": false
  }
 },
 "nbformat": 4,
 "nbformat_minor": 1
}
