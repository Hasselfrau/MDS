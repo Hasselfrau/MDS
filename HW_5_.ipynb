{
 "nbformat": 4,
 "nbformat_minor": 0,
 "metadata": {
  "colab": {
   "name": "HW_5",
   "provenance": []
  },
  "kernelspec": {
   "name": "python3",
   "language": "python",
   "display_name": "Python 3"
  }
 },
 "cells": [
  {
   "cell_type": "markdown",
   "metadata": {
    "id": "MDcEqde2UtVJ"
   },
   "source": [
    "# Домашнее задание \"Производная функции нескольких аргументов\"."
   ]
  },
  {
   "cell_type": "code",
   "metadata": {
    "id": "hkGWP9e5TgmG"
   },
   "source": [
    "import numpy as np\n",
    "from scipy.misc import derivative\n",
    "from scipy.optimize import approx_fprime"
   ],
   "execution_count": 1,
   "outputs": []
  },
  {
   "cell_type": "markdown",
   "metadata": {
    "id": "Brjig4o4UnHe"
   },
   "source": [
    "### Уровень 0:"
   ]
  },
  {
   "cell_type": "markdown",
   "metadata": {
    "id": "xOv4al86VAw1"
   },
   "source": [
    "Посчитайте частные производные функций:"
   ]
  },
  {
   "cell_type": "markdown",
   "metadata": {
    "id": "fCyKnRYIUw2j"
   },
   "source": [
    "1) $f(x,y)=2x^2y^3 + 1/x + y^2x + 7$, а для этой функции также градиент в точке $(1,2)$\n",
    "\n",
    "Находим частную производную сначала для х (где у - костанта):\n",
    "\n",
    "$(2x^2y^3 + 1/x + y^2x + 7)'=$\n",
    "\n",
    "$(2x^2y^3)' + (1/x)' + (y^2x)' + 0 =$\n",
    "\n",
    "$2y^3(x^2)' - 1/x^2 + y^2(x)'=$\n",
    "\n",
    "$2y^3x - 1/x^2 + y^2$\n",
    "\n",
    "Затем для у (где константа х):\n",
    "\n",
    "$(2x^2y^3 + 1/x + y^2x + 7)'=$\n",
    "\n",
    "$(2x^2y^3)' + (1/x)' + (y^2x)' + 0 =$\n",
    "\n",
    "$2x^2(y^3)' + 0 + x(y^2)'=$\n",
    "\n",
    "$6x^2y^2  + 2xy=$\n",
    "\n",
    "$2xy(3xy + 1)$"
   ]
  },
  {
   "cell_type": "code",
   "execution_count": 2,
   "outputs": [],
   "source": [
    "def f_1(x):\n",
    "    x, y = x[0], x[1]\n",
    "    det_x = 2 * x * y ** 3 - 1 / x ** 2 + y ** 2\n",
    "    det_y = 2 * x * y * (3 * x * y + 1)\n",
    "    grad = np.array([det_x, det_y])\n",
    "    return grad"
   ],
   "metadata": {
    "collapsed": false,
    "pycharm": {
     "name": "#%%\n"
    }
   }
  },
  {
   "cell_type": "code",
   "execution_count": 3,
   "outputs": [
    {
     "name": "stdout",
     "output_type": "stream",
     "text": [
      "Градиент в точке [1, 2] равен [19. 28.]\n"
     ]
    }
   ],
   "source": [
    "x = [1,2]\n",
    "print(f'Градиент в точке {x} равен {f_1(x)}')"
   ],
   "metadata": {
    "collapsed": false,
    "pycharm": {
     "name": "#%%\n"
    }
   }
  },
  {
   "cell_type": "markdown",
   "source": [
    "2) $f(x,y)=x^2y - sin(xy) + cos(x^2) + 6y$\n",
    "\n",
    "Находим частную производную сначала для х (где у - костанта):\n",
    "\n",
    "$(x^2y)' - (sin(xy))' + (cos(x^2))' + (6y)'=$\n",
    "\n",
    "$y(x^2)' - (sin(xy))' + (cos(x^2))' + 0=$\n",
    "\n",
    "$y(x^2)' - cos(xy)(xy)' - sin(x^2)(x^2)'=$\n",
    "\n",
    "$2yx - ycos(xy) - 2xsin(x^2)$\n",
    "\n",
    "\n",
    "Затем для у (где константа х):\n",
    "\n",
    "$(x^2y)' - (sin(xy))' + (cos(x^2))' + (6y)'=$\n",
    "\n",
    "$x^2(y)' - cos(xy)(xy)' + 0 + 6=$\n",
    "\n",
    "$x^2 - xcos(xy) + 6$"
   ],
   "metadata": {
    "collapsed": false
   }
  },
  {
   "cell_type": "code",
   "execution_count": 4,
   "outputs": [],
   "source": [
    "def f_2(x):\n",
    "    x, y = x[0], x[1]\n",
    "    det_x = 2 * y * x - y * np.cos(x * y) - 2 * x * np.sin(x ** 2)\n",
    "    det_y = x ** 2 - x * np.cos(x * y) + 6\n",
    "    grad = np.array([det_x, det_y])\n",
    "    return grad"
   ],
   "metadata": {
    "collapsed": false,
    "pycharm": {
     "name": "#%%\n"
    }
   }
  },
  {
   "cell_type": "code",
   "execution_count": 5,
   "outputs": [
    {
     "name": "stdout",
     "output_type": "stream",
     "text": [
      "Частные производные для функции f(x,y)=x^2y - sin(xy) + cos(x^2) + 6\n",
      "в точке [1, 2] равны 3.149351703478492 и 7.416146836547142\n"
     ]
    }
   ],
   "source": [
    "print(f'Частные производные для функции f(x,y)=x^2y - sin(xy) + cos(x^2) + 6\\nв точке {x} равны {f_2(x)[0]} и {f_2(x)[1]}')"
   ],
   "metadata": {
    "collapsed": false,
    "pycharm": {
     "name": "#%%\n"
    }
   }
  },
  {
   "cell_type": "markdown",
   "metadata": {
    "id": "COzir0ZGVLtz"
   },
   "source": [
    "### Уровень 1:"
   ]
  },
  {
   "cell_type": "markdown",
   "metadata": {
    "id": "VIW3H6ChVOZQ"
   },
   "source": [
    "Градиентный спуск своими руками:"
   ]
  },
  {
   "cell_type": "code",
   "metadata": {
    "id": "rFpy298AUwXs"
   },
   "source": [
    "def f(x):\n",
    "    return (x[0]**2) + (x[1]**2)"
   ],
   "execution_count": 6,
   "outputs": []
  },
  {
   "cell_type": "code",
   "metadata": {
    "id": "-QoutSlMcZ7M"
   },
   "source": [
    "x = np.array([100, 200])\n",
    "learning_rate = 0.1"
   ],
   "execution_count": 7,
   "outputs": []
  },
  {
   "cell_type": "code",
   "metadata": {
    "id": "kBQCpgyEcZ9j"
   },
   "source": [
    "for i in range(100):\n",
    "    # Calculate gradient\n",
    "    grad = np.array([2 * x[0], 2 * x[1]])\n",
    "    \n",
    "    # Update x with gradient\n",
    "    x = x - learning_rate * grad"
   ],
   "execution_count": 8,
   "outputs": []
  },
  {
   "cell_type": "code",
   "metadata": {
    "id": "3rJwR2lecZ_i"
   },
   "source": [
    "print(\"Минимум достигается в: \", x)\n",
    "print(\"Значение функции в минимуме: \", f(x))"
   ],
   "execution_count": 9,
   "outputs": [
    {
     "name": "stdout",
     "output_type": "stream",
     "text": [
      "Минимум достигается в:  [2.03703598e-08 4.07407195e-08]\n",
      "Значение функции в минимуме:  2.0747577844404994e-15\n"
     ]
    }
   ]
  },
  {
   "cell_type": "markdown",
   "metadata": {
    "id": "eAw4uXx_UnJk"
   },
   "source": [
    "\n",
    "Проверка с помощью встроенной функции numpy:"
   ]
  },
  {
   "cell_type": "code",
   "execution_count": 10,
   "outputs": [],
   "source": [
    "x = np.array([100, 200])\n",
    "\n",
    "for i in range(100):\n",
    "    # Calculate gradient\n",
    "    grad_scratch = np.array([2 * x[0], 2 * x[1]])\n",
    "    grad_scipy_misc = derivative(f,x)\n",
    "    grad_scipy_opt = approx_fprime(x,f, 0)\n",
    "    assert np.allclose(grad_scratch[0] + grad_scratch[1], grad_scipy_misc) #Проверка с помощью встроенной функции numpy\n",
    "    assert np.allclose(grad_scratch, grad_scipy_opt, rtol=1e-01) #Проверка с помощью встроенной функции numpy\n",
    "\n",
    "\n",
    "    # Update x with gradient\n",
    "    x = x - learning_rate * grad_scratch\n"
   ],
   "metadata": {
    "collapsed": false,
    "pycharm": {
     "name": "#%%\n"
    }
   }
  },
  {
   "cell_type": "code",
   "execution_count": 11,
   "outputs": [
    {
     "name": "stdout",
     "output_type": "stream",
     "text": [
      "Минимум достигается в:  [2.03703598e-08 4.07407195e-08]\n",
      "Значение функции в минимуме:  2.0747577844404994e-15\n"
     ]
    }
   ],
   "source": [
    "print(\"Минимум достигается в: \", x)\n",
    "print(\"Значение функции в минимуме: \", f(x))\n",
    "\n"
   ],
   "metadata": {
    "collapsed": false,
    "pycharm": {
     "name": "#%%\n"
    }
   }
  }
 ]
}