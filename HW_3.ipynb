{
 "cells": [
  {
   "cell_type": "markdown",
   "metadata": {
    "id": "pqJ3l8E1PXFU"
   },
   "source": [
    "# Homework \"Advanced linear algebra\"."
   ]
  },
  {
   "cell_type": "code",
   "execution_count": 1,
   "metadata": {
    "ExecuteTime": {
     "end_time": "2024-03-10T20:07:47.131779Z",
     "start_time": "2024-03-10T20:07:35.672587Z"
    }
   },
   "outputs": [
    {
     "name": "stderr",
     "output_type": "stream",
     "text": [
      "/var/folders/8m/pdb3kxls26vfh6fx96vt11380000gp/T/ipykernel_41034/965663681.py:2: DeprecationWarning: \n",
      "Pyarrow will become a required dependency of pandas in the next major release of pandas (pandas 3.0),\n",
      "(to allow more performant data types, such as the Arrow string type, and better interoperability with other libraries)\n",
      "but was not found to be installed on your system.\n",
      "If this would cause problems for you,\n",
      "please provide us feedback at https://github.com/pandas-dev/pandas/issues/54466\n",
      "        \n",
      "  import pandas as pd\n"
     ]
    }
   ],
   "source": [
    "import numpy as np\n",
    "import pandas as pd\n",
    "float_formatter = lambda x: \"%.4f\" % x\n",
    "np.set_printoptions(formatter={'float_kind':float_formatter})"
   ]
  },
  {
   "cell_type": "markdown",
   "metadata": {
    "id": "xV6YXX6VPjiM"
   },
   "source": [
    "### Level 0:"
   ]
  },
  {
   "cell_type": "markdown",
   "metadata": {
    "id": "sdJhzn3YPCZG"
   },
   "source": [
    "Define following matrices:\n",
    "\n",
    "a) Diagonal and orthogonal but not ones(!)\n",
    "\n",
    "b) Upper-triangular and orthogonal\n",
    "\n",
    "c) Lowtriangle and orthogonal\n",
    "\n",
    "d) Matrix with denominator = 1 and sum of elements != 0\n",
    "\n",
    "P.S. In all tasks should be non-zero matrix with shape more then 2\n"
   ]
  },
  {
   "cell_type": "markdown",
   "metadata": {},
   "source": [
    "#### a) Diagonal and orthogonal but not ones(!)\n",
    "\n",
    "\n",
    "Diagonal matrix\n",
    "$A^{T}=A$\\\n",
    "Orthogonal matrix\n",
    "$A^{-1}=A^{T}$\n",
    "Diagonal orthogonal matrix\n",
    "$A^{-1}=A$"
   ]
  },
  {
   "cell_type": "code",
   "execution_count": 5,
   "metadata": {
    "ExecuteTime": {
     "end_time": "2024-03-10T20:16:41.399475Z",
     "start_time": "2024-03-10T20:16:41.389782Z"
    }
   },
   "outputs": [
    {
     "name": "stdout",
     "output_type": "stream",
     "text": [
      "[[-1  0  0]\n",
      " [ 0 -1  0]\n",
      " [ 0  0 -1]]\n"
     ]
    }
   ],
   "source": [
    "# Input matrix\n",
    "A = np.diag([-1,-1,-1])"
   ]
  },
  {
   "cell_type": "code",
   "execution_count": 7,
   "metadata": {
    "ExecuteTime": {
     "end_time": "2024-03-10T20:17:01.884545Z",
     "start_time": "2024-03-10T20:17:01.877025Z"
    }
   },
   "outputs": [
    {
     "name": "stdout",
     "output_type": "stream",
     "text": [
      "[[-1  0  0]\n",
      " [ 0 -1  0]\n",
      " [ 0  0 -1]]\n"
     ]
    }
   ],
   "source": [
    "# Inverted matrix\n",
    "A_inv = np.linalg.inv(A)"
   ]
  },
  {
   "cell_type": "code",
   "execution_count": 8,
   "metadata": {
    "scrolled": true,
    "ExecuteTime": {
     "end_time": "2024-03-10T20:17:51.138661Z",
     "start_time": "2024-03-10T20:17:51.129269Z"
    }
   },
   "outputs": [
    {
     "name": "stdout",
     "output_type": "stream",
     "text": [
      "True\n",
      "True\n"
     ]
    }
   ],
   "source": [
    "# Orthogonality check\n",
    "print(np.allclose(A_inv, A.T))\n",
    "print(np.allclose(A_inv, A))"
   ]
  },
  {
   "cell_type": "markdown",
   "metadata": {},
   "source": [
    "#### Upper-triangular, orthogonal\n",
    "Orthogonal matrix\n",
    "$A^{-1}=A^{T}$"
   ]
  },
  {
   "cell_type": "code",
   "execution_count": 14,
   "metadata": {
    "pycharm": {
     "name": "#%%\n"
    },
    "ExecuteTime": {
     "end_time": "2024-03-10T20:29:25.330241Z",
     "start_time": "2024-03-10T20:29:25.316951Z"
    }
   },
   "outputs": [
    {
     "name": "stdout",
     "output_type": "stream",
     "text": [
      "Upper-triangular:\n",
      " [[-0.8586 -0.7124 -0.3419 -1.0923]\n",
      " [0.0000 -0.4147 0.1858 0.6999]\n",
      " [0.0000 0.0000 -0.2252 -0.1090]\n",
      " [0.0000 0.0000 0.0000 -0.0848]] \n",
      "If matrix Q orthogonal?\n",
      " True\n"
     ]
    }
   ],
   "source": [
    "A = np.random.rand(4,4) # set random matrix\n",
    "\n",
    "# Compute the qr factorization of a matrix.\n",
    "# Factor the matrix `a` as *qr*, where `q` is orthonormal and `r` is\n",
    "# upper-triangular.\n",
    "Q, R = np.linalg.qr(A)\n",
    "\n",
    "print('Upper-triangular:\\n', R, '\\nIf matrix Q orthogonal?\\n', np.allclose(np.linalg.inv(Q), Q.T))"
   ]
  },
  {
   "cell_type": "code",
   "execution_count": 37,
   "outputs": [],
   "source": [
    "# Upper-triangular and orthogonal\n",
    "A = np.diag([-1,-1,-1])"
   ],
   "metadata": {
    "collapsed": false,
    "ExecuteTime": {
     "end_time": "2024-03-10T20:48:46.165581Z",
     "start_time": "2024-03-10T20:48:46.159615Z"
    }
   }
  },
  {
   "cell_type": "markdown",
   "metadata": {},
   "source": [
    "#### c) Lower-triangular, orthogonal"
   ]
  },
  {
   "cell_type": "code",
   "execution_count": 35,
   "metadata": {
    "ExecuteTime": {
     "end_time": "2024-03-10T20:47:25.956010Z",
     "start_time": "2024-03-10T20:47:25.938664Z"
    }
   },
   "outputs": [
    {
     "name": "stdout",
     "output_type": "stream",
     "text": [
      "Lower-triangular:\n",
      " [[-1.2618 0.0000 0.0000 0.0000]\n",
      " [-0.8172 -0.7773 0.0000 0.0000]\n",
      " [-1.2874 -0.5674 -0.5683 0.0000]\n",
      " [-0.9779 -0.3337 -0.3679 -0.5773]] \n",
      "If matrix Q orthogonal?\n",
      " True\n"
     ]
    }
   ],
   "source": [
    "A = np.random.rand(4,4) # set a random matrix\n",
    "\n",
    "# Compute the qr factorization of a matrix.\n",
    "# Factor the matrix `a` as *qr*, where `q` is orthonormal and `r` is\n",
    "# upper-triangular.\n",
    "Q, R = np.linalg.qr(A)\n",
    "print('Lower-triangular:\\n', R.T, '\\nIf matrix Q orthogonal?\\n', np.allclose(np.linalg.inv(Q), Q.T))"
   ]
  },
  {
   "cell_type": "code",
   "execution_count": 36,
   "metadata": {
    "pycharm": {
     "name": "#%%\n"
    },
    "ExecuteTime": {
     "end_time": "2024-03-10T20:48:25.630730Z",
     "start_time": "2024-03-10T20:48:25.625770Z"
    }
   },
   "outputs": [],
   "source": [
    "# Lower-triangular and orthogonal\n",
    "A = np.diag([-1,-1,-1])"
   ]
  },
  {
   "cell_type": "markdown",
   "metadata": {
    "id": "DoobuSBZQl6d",
    "pycharm": {
     "name": "#%% md\n"
    }
   },
   "source": [
    "Compute the eigenvalues and right eigenvectors of a square array."
   ]
  },
  {
   "cell_type": "code",
   "execution_count": 38,
   "metadata": {
    "pycharm": {
     "name": "#%%\n"
    },
    "ExecuteTime": {
     "end_time": "2024-03-10T20:49:40.125760Z",
     "start_time": "2024-03-10T20:49:40.116079Z"
    }
   },
   "outputs": [
    {
     "name": "stdout",
     "output_type": "stream",
     "text": [
      "[[2 2]\n",
      " [1 3]]\n"
     ]
    }
   ],
   "source": [
    "m = np.array([[2, 2],\n",
    "              [1, 3]])\n",
    "print(m)\n"
   ]
  },
  {
   "cell_type": "code",
   "execution_count": 40,
   "metadata": {
    "pycharm": {
     "name": "#%%\n"
    },
    "ExecuteTime": {
     "end_time": "2024-03-10T20:50:53.732785Z",
     "start_time": "2024-03-10T20:50:53.724600Z"
    }
   },
   "outputs": [
    {
     "name": "stdout",
     "output_type": "stream",
     "text": [
      "Eigenvalues:\n",
      "[1.0000 4.0000]\n",
      "Right Eigenvectors:\n",
      "[[-0.8944 -0.7071]\n",
      " [0.4472 -0.7071]]\n"
     ]
    }
   ],
   "source": [
    "W, v = np.linalg.eig(m)\n",
    "print(f'Eigenvalues:\\n{W}\\nRight Eigenvectors:\\n{v}')"
   ]
  },
  {
   "cell_type": "markdown",
   "metadata": {
    "id": "1IymnLDrPCXH"
   },
   "source": [
    "### Level 1:"
   ]
  },
  {
   "cell_type": "markdown",
   "metadata": {
    "id": "iJPawZAEPpJO"
   },
   "source": [
    "Find spectral factorization of matrix m:"
   ]
  },
  {
   "cell_type": "code",
   "execution_count": 41,
   "metadata": {
    "pycharm": {
     "name": "#%%\n"
    },
    "ExecuteTime": {
     "end_time": "2024-03-10T20:51:56.065324Z",
     "start_time": "2024-03-10T20:51:56.058416Z"
    }
   },
   "outputs": [
    {
     "name": "stdout",
     "output_type": "stream",
     "text": [
      "[[1 2]\n",
      " [2 3]]\n"
     ]
    }
   ],
   "source": [
    "m = np.array([[1, 2],\n",
    "              [2,3]])\n",
    "print(m)\n"
   ]
  },
  {
   "cell_type": "markdown",
   "metadata": {
    "pycharm": {
     "name": "#%% md\n"
    }
   },
   "source": [
    "Spectral matrix m factorization is a sum of 3 matrices:\n",
    "- S transposed\n",
    "- D diagonal matrix with eigenvalues on main diagonal\n",
    "- S matrix with normalized eigenvectors of matrix m in columns"
   ]
  },
  {
   "cell_type": "code",
   "execution_count": 42,
   "metadata": {
    "pycharm": {
     "name": "#%%\n"
    },
    "ExecuteTime": {
     "end_time": "2024-03-10T20:56:45.708148Z",
     "start_time": "2024-03-10T20:56:45.700204Z"
    }
   },
   "outputs": [],
   "source": [
    "# find eigenvalues\n",
    "W, v = np.linalg.eig(m)\n",
    "# gets diagonal matrix with eigenvalues on main diagonal\n",
    "D = np.diag(W)"
   ]
  },
  {
   "cell_type": "code",
   "execution_count": 43,
   "metadata": {
    "pycharm": {
     "name": "#%%\n"
    },
    "ExecuteTime": {
     "end_time": "2024-03-10T20:57:12.849820Z",
     "start_time": "2024-03-10T20:57:12.840977Z"
    }
   },
   "outputs": [
    {
     "data": {
      "text/plain": "array([[1.0000, 0.0000],\n       [0.0000, 1.0000]])"
     },
     "execution_count": 43,
     "metadata": {},
     "output_type": "execute_result"
    }
   ],
   "source": [
    "# find orthogonal matrix\n",
    "S = v.T\n",
    "S @ S.T"
   ]
  },
  {
   "cell_type": "code",
   "execution_count": 44,
   "metadata": {
    "pycharm": {
     "name": "#%%\n"
    },
    "ExecuteTime": {
     "end_time": "2024-03-10T20:58:26.715082Z",
     "start_time": "2024-03-10T20:58:26.707473Z"
    }
   },
   "outputs": [
    {
     "data": {
      "text/plain": "True"
     },
     "execution_count": 44,
     "metadata": {},
     "output_type": "execute_result"
    }
   ],
   "source": [
    "# Check if matrix multiplication of factorization elements equal input matrix\n",
    "np.allclose(S.T @ D @ S, m)"
   ]
  },
  {
   "cell_type": "markdown",
   "metadata": {
    "id": "V9fcRZltQoRu"
   },
   "source": [
    "Implement MNIST prediction quality dependency with respect to different amount of RCA components.\\\n",
    "MSE metric recommended.\n",
    "\n",
    "\n"
   ]
  },
  {
   "cell_type": "markdown",
   "metadata": {
    "id": "pH2vOABpSMSQ"
   },
   "source": [
    "\n",
    "--------------------------------------------------------------------------------"
   ]
  },
  {
   "cell_type": "markdown",
   "metadata": {
    "id": "d1qAqmOMSMUd"
   },
   "source": [
    "PCA has methods \"transform\" and \"inverse_transofrm\".\\\n",
    "Method \"transform\" makes dimensionality reduction.\\\n",
    "Method \"inverse_transofrm\" restore original data (with information loss).\\\n",
    "\n",
    "We need to calculate how accurate (average) image restores depends on number of PCA components.\n"
   ]
  },
  {
   "cell_type": "markdown",
   "metadata": {
    "id": "THD2Cd1ySPOQ"
   },
   "source": []
  },
  {
   "cell_type": "markdown",
   "metadata": {
    "id": "tosUSbt0QqYG"
   },
   "source": [
    "Documentation:\n",
    "\n",
    "https://scikit-learn.org/stable/modules/generated/sklearn.decomposition.PCA.html - PCA\n",
    "\n",
    "https://scikit-learn.org/stable/modules/generated/sklearn.metrics.mean_squared_error.html - MSE\n",
    "\n",
    "Data - https://scikit-learn.org/stable/modules/generated/sklearn.datasets.load_digits.html"
   ]
  },
  {
   "cell_type": "code",
   "execution_count": 13,
   "metadata": {
    "pycharm": {
     "name": "#%%\n"
    }
   },
   "outputs": [],
   "source": [
    "from sklearn.decomposition import PCA\n",
    "from sklearn.datasets import load_digits\n",
    "from sklearn.metrics import mean_squared_error\n",
    "import matplotlib.pyplot as plt"
   ]
  },
  {
   "cell_type": "code",
   "execution_count": 14,
   "metadata": {
    "pycharm": {
     "name": "#%%\n"
    }
   },
   "outputs": [
    {
     "data": {
      "text/plain": [
       "<Figure size 432x288 with 0 Axes>"
      ]
     },
     "metadata": {},
     "output_type": "display_data"
    },
    {
     "data": {
      "image/png": "[encoded data removed]",
      "text/plain": [
       "<Figure size 288x288 with 1 Axes>"
      ]
     },
     "metadata": {
      "needs_background": "light"
     },
     "output_type": "display_data"
    }
   ],
   "source": [
    "# Загружаем цифры\n",
    "digits = load_digits()\n",
    "plt.gray()\n",
    "plt.matshow(digits.images[420])\n",
    "plt.show()"
   ]
  },
  {
   "cell_type": "code",
   "execution_count": 15,
   "metadata": {
    "pycharm": {
     "name": "#%%\n"
    }
   },
   "outputs": [],
   "source": [
    "def get_distance(X, n_components):\n",
    "    pca = PCA(n_components=n_components)\n",
    "    pca.fit_transform(X)\n",
    "    X_pca = pca.transform(X)\n",
    "    low = pca.inverse_transform(X_pca)\n",
    "    return mean_squared_error(X, low), low"
   ]
  },
  {
   "cell_type": "code",
   "execution_count": 16,
   "metadata": {
    "pycharm": {
     "name": "#%%\n"
    }
   },
   "outputs": [],
   "source": [
    "# We set 7 as a maximum number of PCA components because this number could not be bigger than one of matrix sizes.\n",
    "# All numbers in our set have shape 8, 8\n",
    "def get_dependencies(X):\n",
    "    dists = dict()\n",
    "    for i in range(min(X.shape)+1)[::-1]:\n",
    "        dists[i], lowest_pic = get_distance(X, i)\n",
    "    return dists, lowest_pic\n"
   ]
  },
  {
   "cell_type": "code",
   "execution_count": 17,
   "metadata": {
    "pycharm": {
     "name": "#%%\n"
    }
   },
   "outputs": [],
   "source": [
    "def plot_dependencies(X ,with_pic_diff=True):\n",
    "    d, low_pic = get_dependencies(X)\n",
    "    plt.title('Quality / number of PCA components')\n",
    "    plt.ylabel('MSE')\n",
    "    plt.xlabel('Number of components')\n",
    "    plt.plot(d.keys(), d.values(), label='line 1');\n",
    "    if with_pic_diff:\n",
    "        plt.gray()\n",
    "        plt.matshow(X)\n",
    "        plt.matshow(low_pic)"
   ]
  },
  {
   "cell_type": "code",
   "execution_count": 18,
   "metadata": {
    "pycharm": {
     "name": "#%%\n"
    }
   },
   "outputs": [
    {
     "data": {
      "image/png": "[encoded data removed]",
      "text/plain": [
       "<Figure size 432x288 with 1 Axes>"
      ]
     },
     "metadata": {
      "needs_background": "light"
     },
     "output_type": "display_data"
    },
    {
     "data": {
      "image/png": "[encoded data removed]",
      "text/plain": [
       "<Figure size 288x288 with 1 Axes>"
      ]
     },
     "metadata": {
      "needs_background": "light"
     },
     "output_type": "display_data"
    },
    {
     "data": {
      "image/png": "[encoded data removed]",
      "text/plain": [
       "<Figure size 288x288 with 1 Axes>"
      ]
     },
     "metadata": {
      "needs_background": "light"
     },
     "output_type": "display_data"
    }
   ],
   "source": [
    "plot_dependencies(digits.images[420])\n"
   ]
  }
 ],
 "metadata": {
  "colab": {
   "collapsed_sections": [],
   "name": "HW_3",
   "provenance": []
  },
  "kernelspec": {
   "display_name": "Python 3",
   "language": "python",
   "name": "python3"
  },
  "language_info": {
   "codemirror_mode": {
    "name": "ipython",
    "version": 3
   },
   "file_extension": ".py",
   "mimetype": "text/x-python",
   "name": "python",
   "nbconvert_exporter": "python",
   "pygments_lexer": "ipython3",
   "version": "3.8.10"
  },
  "toc": {
   "base_numbering": 1,
   "nav_menu": {},
   "number_sections": true,
   "sideBar": true,
   "skip_h1_title": false,
   "title_cell": "Table of Contents",
   "title_sidebar": "Contents",
   "toc_cell": false,
   "toc_position": {},
   "toc_section_display": true,
   "toc_window_display": false
  },
  "varInspector": {
   "cols": {
    "lenName": 16,
    "lenType": 16,
    "lenVar": 40
   },
   "kernels_config": {
    "python": {
     "delete_cmd_postfix": "",
     "delete_cmd_prefix": "del ",
     "library": "var_list.py",
     "varRefreshCmd": "print(var_dic_list())"
    },
    "r": {
     "delete_cmd_postfix": ") ",
     "delete_cmd_prefix": "rm(",
     "library": "var_list.r",
     "varRefreshCmd": "cat(var_dic_list()) "
    }
   },
   "types_to_exclude": [
    "module",
    "function",
    "builtin_function_or_method",
    "instance",
    "_Feature"
   ],
   "window_display": false
  }
 },
 "nbformat": 4,
 "nbformat_minor": 1
}
